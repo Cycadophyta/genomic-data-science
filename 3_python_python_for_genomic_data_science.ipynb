{
  "nbformat": 4,
  "nbformat_minor": 0,
  "metadata": {
    "colab": {
      "name": "Python for Genomic Data Science.ipynb",
      "provenance": [],
      "authorship_tag": "ABX9TyN1HTM8XtH01oj8gia5qHLT",
      "include_colab_link": true
    },
    "kernelspec": {
      "name": "python3",
      "display_name": "Python 3"
    }
  },
  "cells": [
    {
      "cell_type": "markdown",
      "metadata": {
        "id": "view-in-github",
        "colab_type": "text"
      },
      "source": [
        "<a href=\"https://colab.research.google.com/github/Cycadophyta/genomic-data-science/blob/main/python_for_genomic_data_science.ipynb\" target=\"_parent\"><img src=\"https://colab.research.google.com/assets/colab-badge.svg\" alt=\"Open In Colab\"/></a>"
      ]
    },
    {
      "cell_type": "markdown",
      "metadata": {
        "id": "ZGsPHIaVXTV7"
      },
      "source": [
        "# Python for Genomic Data Science"
      ]
    },
    {
      "cell_type": "code",
      "metadata": {
        "id": "J-78ycwgb3nC",
        "colab": {
          "base_uri": "https://localhost:8080/",
          "height": 33
        },
        "outputId": "2d2be426-d0be-4c4e-e43c-88331542b7ba"
      },
      "source": [
        "import random\n",
        "\n",
        "def create_dna(n, bases='acgt'):\n",
        "    '''Generates a random DNA sequence of length n.'''\n",
        "    return ''.join([random.choice(bases) for i in range(n)])\n",
        "\n",
        "dna = create_dna(20)\n",
        "print(dna)"
      ],
      "execution_count": null,
      "outputs": [
        {
          "output_type": "stream",
          "text": [
            "gaccgagcagcccgaattgg\n"
          ],
          "name": "stdout"
        }
      ]
    },
    {
      "cell_type": "code",
      "metadata": {
        "id": "Og2zpSjTXRvT",
        "colab": {
          "base_uri": "https://localhost:8080/",
          "height": 34
        },
        "outputId": "9b1f4f2d-ce0e-40f4-dd74-aeff5c9f1ed1"
      },
      "source": [
        "def gc_percent(seq):\n",
        "    '''Computes the GC percentge of a sequence.'''\n",
        "    n_count = seq.lower().count('n')\n",
        "    g_count = seq.lower().count('g')\n",
        "    c_count = seq.lower().count('c')\n",
        "    gc_perc = (g_count + c_count) * 100 / (len(seq) - n_count)\n",
        "    return gc_perc\n",
        "\n",
        "print('% 5.2f %%' % gc_percent('ATAATCGAGGAAATCCC'))"
      ],
      "execution_count": null,
      "outputs": [
        {
          "output_type": "stream",
          "text": [
            " 41.18 %\n"
          ],
          "name": "stdout"
        }
      ]
    },
    {
      "cell_type": "code",
      "metadata": {
        "id": "s0cSa2QaeVHM",
        "colab": {
          "base_uri": "https://localhost:8080/",
          "height": 33
        },
        "outputId": "efcb9a81-4298-4f8c-c817-13f79cff66b2"
      },
      "source": [
        "def has_stop_codon(seq, frame=0):\n",
        "    '''Checks if given sequence has a stop codon in a given frame.'''\n",
        "    stop_codons = ['tga', 'tag', 'taa']\n",
        "    found_stop_codon = False\n",
        "    for i in range(frame, len(seq), 3):\n",
        "        codon = seq[i:i+3].lower()\n",
        "        if codon in stop_codons:\n",
        "            found_stop_codon = True \n",
        "            break\n",
        "    return found_stop_codon\n",
        "\n",
        "seq = 'ATAtagATCGAGGAAATCCCTGA'\n",
        "\n",
        "print(has_stop_codon(seq, 2))"
      ],
      "execution_count": null,
      "outputs": [
        {
          "output_type": "stream",
          "text": [
            "True\n"
          ],
          "name": "stdout"
        }
      ]
    },
    {
      "cell_type": "code",
      "metadata": {
        "id": "-NG45cO_lsAH",
        "colab": {
          "base_uri": "https://localhost:8080/",
          "height": 35
        },
        "outputId": "a77f04bf-9d19-47e2-e67c-487c56fb73c4"
      },
      "source": [
        "def reverse_complement(seq):\n",
        "    '''Generates the reverse complement of a given sequence.'''\n",
        "    reversed = ''\n",
        "    base_pairs = {'a':'t', 't':'a', 'c':'g', 'g':'c', 'n':'n'}\n",
        "    for base in seq:\n",
        "        reversed += base_pairs[base.lower()]\n",
        "    reverse_complement = reversed[::-1]\n",
        "    return reversed_complement\n",
        "\n",
        "reverse_complement(seq)"
      ],
      "execution_count": null,
      "outputs": [
        {
          "output_type": "execute_result",
          "data": {
            "application/vnd.google.colaboratory.intrinsic+json": {
              "type": "string"
            },
            "text/plain": [
              "'tcagggatttcctcgatctatat'"
            ]
          },
          "metadata": {
            "tags": []
          },
          "execution_count": 17
        }
      ]
    },
    {
      "cell_type": "code",
      "metadata": {
        "id": "qU_3GRqJQPLv"
      },
      "source": [
        "from Bio.Blast import NCBIWWW, NCBIXML\n",
        "\n",
        "fasta_string = open('myseq.fa').read()\n",
        "result_handle = NCBIWWW.qblast('blastn', 'nt', fasta_string)\n",
        "blast_record = NCBIXML.read(result_handle)"
      ],
      "execution_count": null,
      "outputs": []
    },
    {
      "cell_type": "code",
      "metadata": {
        "id": "Kx7y6vkWVjcw",
        "colab": {
          "base_uri": "https://localhost:8080/",
          "height": 436
        },
        "outputId": "94fe0ceb-63d8-4b2b-a429-1cb3c57537a6"
      },
      "source": [
        "from Bio.Blast import NCBIWWW, NCBIXML \n",
        "\n",
        "fasta_string = 'TGGGCCTCATATTTATCCTATATACCATGTTCGTATGGTGGCGCGATGTTCTACGTGAATCCACGTTCGAAGGACATCATACCAAAGTCGTACAATTAGGACCTCGATATGGTTTTATTCTGTTTATCGTATCGGAGGTTATGTTCTTTTTTGCTCTTTTTCGGGCTTCTTCTCATTCTTCTTTGGCACCTACGGTAGAG'\n",
        "result_handle = NCBIWWW.qblast('blastn', 'nt', fasta_string)\n",
        "blast_record = NCBIXML.read(result_handle)"
      ],
      "execution_count": null,
      "outputs": [
        {
          "output_type": "error",
          "ename": "ModuleNotFoundError",
          "evalue": "ignored",
          "traceback": [
            "\u001b[0;31m---------------------------------------------------------------------------\u001b[0m",
            "\u001b[0;31mModuleNotFoundError\u001b[0m                       Traceback (most recent call last)",
            "\u001b[0;32m<ipython-input-1-084e4de2a752>\u001b[0m in \u001b[0;36m<module>\u001b[0;34m()\u001b[0m\n\u001b[0;32m----> 1\u001b[0;31m \u001b[0;32mfrom\u001b[0m \u001b[0mBio\u001b[0m\u001b[0;34m.\u001b[0m\u001b[0mBlast\u001b[0m \u001b[0;32mimport\u001b[0m \u001b[0mNCBIWWW\u001b[0m\u001b[0;34m,\u001b[0m \u001b[0mNCBIXML\u001b[0m\u001b[0;34m\u001b[0m\u001b[0;34m\u001b[0m\u001b[0m\n\u001b[0m\u001b[1;32m      2\u001b[0m \u001b[0;34m\u001b[0m\u001b[0m\n\u001b[1;32m      3\u001b[0m \u001b[0mfasta_string\u001b[0m \u001b[0;34m=\u001b[0m \u001b[0;34m'TGGGCCTCATATTTATCCTATATACCATGTTCGTATGGTGGCGCGATGTTCTACGTGAATCCACGTTCGAAGGACATCATACCAAAGTCGTACAATTAGGACCTCGATATGGTTTTATTCTGTTTATCGTATCGGAGGTTATGTTCTTTTTTGCTCTTTTTCGGGCTTCTTCTCATTCTTCTTTGGCACCTACGGTAGAG'\u001b[0m\u001b[0;34m\u001b[0m\u001b[0;34m\u001b[0m\u001b[0m\n\u001b[1;32m      4\u001b[0m \u001b[0mresult_handle\u001b[0m \u001b[0;34m=\u001b[0m \u001b[0mNCBIWWW\u001b[0m\u001b[0;34m.\u001b[0m\u001b[0mqblast\u001b[0m\u001b[0;34m(\u001b[0m\u001b[0;34m'blastn'\u001b[0m\u001b[0;34m,\u001b[0m \u001b[0;34m'nt'\u001b[0m\u001b[0;34m,\u001b[0m \u001b[0mfasta_string\u001b[0m\u001b[0;34m)\u001b[0m\u001b[0;34m\u001b[0m\u001b[0;34m\u001b[0m\u001b[0m\n\u001b[1;32m      5\u001b[0m \u001b[0mblast_record\u001b[0m \u001b[0;34m=\u001b[0m \u001b[0mNCBIXML\u001b[0m\u001b[0;34m.\u001b[0m\u001b[0mread\u001b[0m\u001b[0;34m(\u001b[0m\u001b[0mresult_handle\u001b[0m\u001b[0;34m)\u001b[0m\u001b[0;34m\u001b[0m\u001b[0;34m\u001b[0m\u001b[0m\n",
            "\u001b[0;31mModuleNotFoundError\u001b[0m: No module named 'Bio'",
            "",
            "\u001b[0;31m---------------------------------------------------------------------------\u001b[0;32m\nNOTE: If your import is failing due to a missing package, you can\nmanually install dependencies using either !pip or !apt.\n\nTo view examples of installing some common dependencies, click the\n\"Open Examples\" button below.\n\u001b[0;31m---------------------------------------------------------------------------\u001b[0m\n"
          ]
        }
      ]
    },
    {
      "cell_type": "markdown",
      "metadata": {
        "id": "mhS-Ltymll73"
      },
      "source": [
        "## Quizzes"
      ]
    },
    {
      "cell_type": "code",
      "metadata": {
        "id": "txQeLBCoi5fV",
        "colab": {
          "base_uri": "https://localhost:8080/",
          "height": 105
        },
        "outputId": "71aac8ed-2e31-4367-9273-4b72205fe575"
      },
      "source": [
        "seq = '123'\n",
        "a1 = []\n",
        "a2 = []\n",
        "\n",
        "for i in range(len(seq)+1):\n",
        "    for j in range(i):\n",
        "        a1.append(seq[j:i])\n",
        "\n",
        "for i in range(len(seq)):\n",
        "    for j in range(i+1):\n",
        "        a2.append(seq[j:i+1])\n",
        "\n",
        "print(a1)\n",
        "print()\n",
        "print(a2)\n",
        "print()\n",
        "print(a1 == a2)"
      ],
      "execution_count": null,
      "outputs": [
        {
          "output_type": "stream",
          "text": [
            "['1', '12', '2', '123', '23', '3']\n",
            "\n",
            "['1', '12', '2', '123', '23', '3']\n",
            "\n",
            "True\n"
          ],
          "name": "stdout"
        }
      ]
    },
    {
      "cell_type": "code",
      "metadata": {
        "id": "WMFqLpxn02Qq",
        "colab": {
          "base_uri": "https://localhost:8080/",
          "height": 70
        },
        "outputId": "30fe8eda-527a-4d0a-ccfa-d8779c99e384"
      },
      "source": [
        "A = []\n",
        "B = []\n",
        "C = []\n",
        "D = []\n",
        "E = []\n",
        "F = []\n",
        "Q = []\n",
        "seq = [1, 2, 3, 4]\n",
        "\n",
        "for i in range(len(seq)) :     # line 1\n",
        "        for j in range(i) :        # line 2\n",
        "                Q.append(seq[j:i])     # line 3\n",
        "\n",
        "# A doesn't work\n",
        "\n",
        "# B\n",
        "\n",
        "i=1\n",
        "while i<len(seq) :\n",
        "      j=1\n",
        "      while(j<i) :\n",
        "                B.append(seq[j:i])\n",
        "                j=j+1\n",
        "      i=i+1\n",
        "\n",
        "# C\n",
        "\n",
        "i=0 \n",
        "while i<len(seq) :\n",
        "      j=0 \n",
        "      while(j<i) :\n",
        "                C.append(seq[j:i])\n",
        "                j+=1\n",
        "      i+=1\n",
        "\n",
        "print(Q)\n",
        "print(B)\n",
        "print(C)"
      ],
      "execution_count": null,
      "outputs": [
        {
          "output_type": "stream",
          "text": [
            "[[1], [1, 2], [2], [1, 2, 3], [2, 3], [3]]\n",
            "[[2], [2, 3], [3]]\n",
            "[[1], [1, 2], [2], [1, 2, 3], [2, 3], [3]]\n"
          ],
          "name": "stdout"
        }
      ]
    },
    {
      "cell_type": "code",
      "metadata": {
        "id": "ghd6CzEB1dXJ",
        "colab": {
          "base_uri": "https://localhost:8080/",
          "height": 70
        },
        "outputId": "81d1b1c1-0486-439c-ca2b-6f42cb3ab8b8"
      },
      "source": [
        "for i in range(len(seq)) :     # line 1\n",
        "        for j in range(i) :        # line 2\n",
        "                print(seq[j:i])     # line 3"
      ],
      "execution_count": null,
      "outputs": [
        {
          "output_type": "stream",
          "text": [
            "1\n",
            "12\n",
            "2\n"
          ],
          "name": "stdout"
        }
      ]
    },
    {
      "cell_type": "markdown",
      "metadata": {
        "id": "ByrNzWjs2Paf"
      },
      "source": [
        "L1 = [1, 2, 3, 4, 4]\n",
        "L2 = [2, 2, 4, 6, 8]\n",
        "\n",
        "L3 = []                    # line 1\n",
        "for elem in L1:            # line 2\n",
        "    if elem not in L3:\n",
        "        if elem in L2:         # line 3\n",
        "            L3.append(elem) \n",
        "\n",
        "print(L3)"
      ]
    },
    {
      "cell_type": "code",
      "metadata": {
        "id": "SJFTbNSu2vub",
        "colab": {
          "base_uri": "https://localhost:8080/",
          "height": 34
        },
        "outputId": "4556ad88-e507-4081-bf4f-ee5afaa92571"
      },
      "source": [
        "L1 = [1, 2, 3, 4, 4]\n",
        "L2 = [2, 2, 4, 6, 8]\n",
        "\n",
        "L3 = []                    # line 1\n",
        "for elem in L1:            # line 2\n",
        "    if elem in L2 and elem not in L3:         # line 3\n",
        "        L3.append(elem) \n",
        "\n",
        "print(L3)"
      ],
      "execution_count": null,
      "outputs": [
        {
          "output_type": "stream",
          "text": [
            "[2, 4]\n"
          ],
          "name": "stdout"
        }
      ]
    },
    {
      "cell_type": "code",
      "metadata": {
        "id": "Vd4rAkDU3NmF",
        "colab": {
          "base_uri": "https://localhost:8080/",
          "height": 87
        },
        "outputId": "cce61078-c442-4470-f7e9-57cdcbfd0b52"
      },
      "source": [
        "mylist = [1, 2, 2, 3, 4, 5]\n",
        "\n",
        "d = {}\n",
        "result = False\n",
        "for x in mylist:\n",
        "    if x in d:\n",
        "        result=True\n",
        "        print(d, result)\n",
        "        break\n",
        "    d[x] = True\n",
        "    print(d, result)\n",
        "print(d, result)"
      ],
      "execution_count": null,
      "outputs": [
        {
          "output_type": "stream",
          "text": [
            "{1: True} False\n",
            "{1: True, 2: True} False\n",
            "{1: True, 2: True} True\n",
            "{1: True, 2: True} True\n"
          ],
          "name": "stdout"
        }
      ]
    },
    {
      "cell_type": "code",
      "metadata": {
        "id": "Vlx4mZd-380N",
        "colab": {
          "base_uri": "https://localhost:8080/",
          "height": 123
        },
        "outputId": "c82eb4e6-7762-4afe-985c-7ffc23eeed33"
      },
      "source": [
        "d = {}\n",
        "result = False\n",
        "for x in mylist:\n",
        "    if not x in d:\n",
        "        d[x]=True\n",
        "        print(d, result)\n",
        "        continue\n",
        "    result = True\n",
        "print(d, result)"
      ],
      "execution_count": null,
      "outputs": [
        {
          "output_type": "stream",
          "text": [
            "{1: True} False\n",
            "{1: True, 2: True} False\n",
            "{1: True, 2: True, 3: True} True\n",
            "{1: True, 2: True, 3: True, 4: True} True\n",
            "{1: True, 2: True, 3: True, 4: True, 5: True} True\n",
            "{1: True, 2: True, 3: True, 4: True, 5: True} True\n"
          ],
          "name": "stdout"
        }
      ]
    },
    {
      "cell_type": "code",
      "metadata": {
        "id": "_5GhuSF17Ks1",
        "colab": {
          "base_uri": "https://localhost:8080/",
          "height": 34
        },
        "outputId": "37d583fb-a0bd-40d3-c52b-d19c55dfb17c"
      },
      "source": [
        "i = 1\n",
        "while i < 100:\n",
        "          if i%2 == 0 : break\n",
        "          i += 1\n",
        "else:\n",
        "     i=1000\n",
        "\n",
        "print(i)"
      ],
      "execution_count": null,
      "outputs": [
        {
          "output_type": "stream",
          "text": [
            "2\n"
          ],
          "name": "stdout"
        }
      ]
    },
    {
      "cell_type": "code",
      "metadata": {
        "id": "TG79uzwZp_Y9",
        "colab": {
          "base_uri": "https://localhost:8080/",
          "height": 33
        },
        "outputId": "32d202ec-9cf5-4bf3-9099-4f40cb4d62be"
      },
      "source": [
        "def f1(x):\n",
        "    if (x > 0):\n",
        "        x = 3*x \n",
        "        x = x / 2\n",
        "    return x\n",
        "\n",
        "def f2(x):\n",
        "    if (x > 0):\n",
        "        x = 3*x\n",
        "    x = x / 2\n",
        "    return x\n",
        "\n",
        "x = 0\n",
        "print(f1(x), f2(x))"
      ],
      "execution_count": null,
      "outputs": [
        {
          "output_type": "stream",
          "text": [
            "0 0.0\n"
          ],
          "name": "stdout"
        }
      ]
    },
    {
      "cell_type": "code",
      "metadata": {
        "id": "iV3EFsGgqth5",
        "colab": {
          "base_uri": "https://localhost:8080/",
          "height": 33
        },
        "outputId": "ab49c374-8b67-47c0-a4d6-e843c7b95dbd"
      },
      "source": [
        "def afunction(a1 = 1, a2 = 2, a3 = 3):\n",
        "    print(a1, a2, a3)\n",
        "\n",
        "afunction()"
      ],
      "execution_count": null,
      "outputs": [
        {
          "output_type": "stream",
          "text": [
            "1 2 3\n"
          ],
          "name": "stdout"
        }
      ]
    },
    {
      "cell_type": "code",
      "metadata": {
        "id": "k7rmsu87VATi",
        "colab": {
          "base_uri": "https://localhost:8080/",
          "height": 33
        },
        "outputId": "aa76b1df-8f5c-4c4a-f4b0-ddb13983e1a1"
      },
      "source": [
        "def valid_dna1(dna):\n",
        "    for c in dna:\n",
        "        if c in 'acgtACGT':\n",
        "            return True\n",
        "        else:\n",
        "            return False\n",
        "\n",
        "def valid_dna4(dna):\n",
        "    for c in dna:\n",
        "        if not c in 'acgtACGT':\n",
        "            return False\n",
        "    return True\n",
        "\n",
        "dna = 'AbTAtagATCGAGGAAATCCCTGAf'\n",
        "\n",
        "valid_dna1(dna)"
      ],
      "execution_count": null,
      "outputs": [
        {
          "output_type": "execute_result",
          "data": {
            "text/plain": [
              "True"
            ]
          },
          "metadata": {
            "tags": []
          },
          "execution_count": 25
        }
      ]
    },
    {
      "cell_type": "code",
      "metadata": {
        "id": "5SvrITFNdmhF",
        "colab": {
          "base_uri": "https://localhost:8080/",
          "height": 82
        },
        "outputId": "ddf127e5-7543-4143-a7d9-ef996e6fe575"
      },
      "source": [
        "def count1(dna, base):\n",
        "    i = 0\n",
        "    for c in dna:\n",
        "        if c == base:\n",
        "            i += 1 \n",
        "    return i\n",
        "\n",
        "def count2(dna, base):\n",
        "    i = 0 \n",
        "    for j in range(len(dna)):\n",
        "        if dna[j] == base:\n",
        "\t        i += 1 \n",
        "    return i \n",
        "\n",
        "def count3(dna, base):\n",
        "    match = [c == base for c in dna]\n",
        "    return sum(match)\n",
        "\n",
        "def count4(dna, base):\n",
        "    return dna.count(base)\n",
        "\n",
        "def count5(dna, base):\n",
        "    return len([i for i in range(len(dna)) if dna[i] == base])\n",
        "\n",
        "def count6(dna,base):\n",
        "    return sum(c == base for c in dna)\n",
        "\n",
        "import time\n",
        "\n",
        "dna = create_dna(10000)\n",
        "base = 'a'\n",
        "\n",
        "start = time.perf_counter()\n",
        "\n",
        "count1(dna, base)\n",
        "\n",
        "time_1 = time.perf_counter()\n",
        "\n",
        "count4(dna, base)\n",
        "\n",
        "time_4 = time.perf_counter()\n",
        "\n",
        "count5(dna, base)\n",
        "\n",
        "time_5 = time.perf_counter()\n",
        "\n",
        "count6(dna, base)\n",
        "\n",
        "time_6 = time.perf_counter()\n",
        "\n",
        "print('count1: ', time_1 - start) \n",
        "print('count4: ', time_4 - time_1) \n",
        "print('count5: ', time_5 - time_4) \n",
        "print('count6: ', time_6 - time_5)"
      ],
      "execution_count": null,
      "outputs": [
        {
          "output_type": "stream",
          "text": [
            "count1:  0.0004691240001193364\n",
            "count4:  6.605099952139426e-05\n",
            "count5:  0.0007337720007853932\n",
            "count6:  0.0008515989993611583\n"
          ],
          "name": "stdout"
        }
      ]
    },
    {
      "cell_type": "code",
      "metadata": {
        "id": "HkRJd6kbkN4O",
        "colab": {
          "base_uri": "https://localhost:8080/",
          "height": 570
        },
        "outputId": "1b21d6e3-2c1f-4810-83ab-bcaa8a414e93"
      },
      "source": [
        "dir(time)"
      ],
      "execution_count": null,
      "outputs": [
        {
          "output_type": "execute_result",
          "data": {
            "text/plain": [
              "['CLOCK_MONOTONIC',\n",
              " 'CLOCK_MONOTONIC_RAW',\n",
              " 'CLOCK_PROCESS_CPUTIME_ID',\n",
              " 'CLOCK_REALTIME',\n",
              " 'CLOCK_THREAD_CPUTIME_ID',\n",
              " '_STRUCT_TM_ITEMS',\n",
              " '__doc__',\n",
              " '__loader__',\n",
              " '__name__',\n",
              " '__package__',\n",
              " '__spec__',\n",
              " 'altzone',\n",
              " 'asctime',\n",
              " 'clock',\n",
              " 'clock_getres',\n",
              " 'clock_gettime',\n",
              " 'clock_settime',\n",
              " 'ctime',\n",
              " 'daylight',\n",
              " 'get_clock_info',\n",
              " 'gmtime',\n",
              " 'localtime',\n",
              " 'mktime',\n",
              " 'monotonic',\n",
              " 'perf_counter',\n",
              " 'process_time',\n",
              " 'sleep',\n",
              " 'strftime',\n",
              " 'strptime',\n",
              " 'struct_time',\n",
              " 'time',\n",
              " 'timezone',\n",
              " 'tzname',\n",
              " 'tzset']"
            ]
          },
          "metadata": {
            "tags": []
          },
          "execution_count": 30
        }
      ]
    },
    {
      "cell_type": "code",
      "metadata": {
        "id": "jdvx7lZi3Qbs",
        "colab": {
          "base_uri": "https://localhost:8080/",
          "height": 66
        },
        "outputId": "e2c638e1-c85a-4b31-a253-38ea1d22019c"
      },
      "source": [
        "def get_extension1(filename):\n",
        "    return(filename.split(\".\")[-1])\n",
        "\n",
        "def get_extension2(filename):\n",
        "    import os.path\n",
        "    return(os.path.splitext(filename)[1])\n",
        "\n",
        "def get_extension3(filename):\n",
        "    return filename[filename.rfind('.'):][1:]\n",
        "\n",
        "f =  'my'\n",
        "\n",
        "print(get_extension1(f))\n",
        "print(get_extension2(f))\n",
        "print(get_extension3(f))"
      ],
      "execution_count": null,
      "outputs": [
        {
          "output_type": "stream",
          "text": [
            "my\n",
            "\n",
            "\n"
          ],
          "name": "stdout"
        }
      ]
    }
  ]
}
