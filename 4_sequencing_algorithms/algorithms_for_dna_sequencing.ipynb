{
  "nbformat": 4,
  "nbformat_minor": 0,
  "metadata": {
    "colab": {
      "name": "Algorithms for DNA Sequencing.ipynb",
      "provenance": [],
      "collapsed_sections": [],
      "authorship_tag": "ABX9TyNHgLVQbujCrGhgtCEL2Y+7",
      "include_colab_link": true
    },
    "kernelspec": {
      "name": "python3",
      "display_name": "Python 3"
    }
  },
  "cells": [
    {
      "cell_type": "markdown",
      "metadata": {
        "id": "view-in-github",
        "colab_type": "text"
      },
      "source": [
        "<a href=\"https://colab.research.google.com/github/Cycadophyta/genomic-data-science/blob/main/algorithms_for_dna_sequencing.ipynb\" target=\"_parent\"><img src=\"https://colab.research.google.com/assets/colab-badge.svg\" alt=\"Open In Colab\"/></a>"
      ]
    },
    {
      "cell_type": "markdown",
      "metadata": {
        "id": "iSfe08cOD-Gk"
      },
      "source": [
        "A collection of functions from the Algorithms for DNA Sequencing Module"
      ]
    },
    {
      "cell_type": "code",
      "metadata": {
        "id": "lkOhaYfqDjLZ"
      },
      "source": [
        "def reverse_complement(sequence):\n",
        "    '''Returns the reverse complement of a sequence.'''\n",
        "    complement = {'A': 'T', 'C': 'G', 'G': 'C', 'T': 'A', 'N': 'N'}\n",
        "    reverse_complement = ''\n",
        "    for base in sequence:\n",
        "        reverse_complement = complement[base] + reverse_complement\n",
        "    return reverse_complement\n",
        "\n",
        "\n",
        "def read_genome(filename):\n",
        "    '''Reads a sequence from a genome file.'''\n",
        "    genome = ''\n",
        "    with open(filename, 'r') as f:\n",
        "        for line in f:\n",
        "            # ignore header line with genome information\n",
        "            if not line[0] == '>':\n",
        "                genome += line.rstrip()\n",
        "    return genome\n",
        "\n",
        "\n",
        "def read_fastq(filename):\n",
        "    ''''Reads a FASTQ file.'''\n",
        "    sequences = []\n",
        "    qualities = []\n",
        "    with open(filename) as fh:\n",
        "        while True:\n",
        "            fh.readline() # skip name line\n",
        "            seq = fh.readline().rstrip() # read base sequence\n",
        "            fh.readline() # skip placeholder line\n",
        "            qual = fh.readline().rstrip() #base quality line\n",
        "            if len(seq) == 0:\n",
        "                break\n",
        "            sequences.append(seq)\n",
        "            qualities.append(qual)\n",
        "    return sequences, qualities\n",
        "\n",
        "\n",
        "def naive(p, t):\n",
        "    '''Finds the positions of all exact matches of p in t.'''\n",
        "    occurrences = []\n",
        "    for i in range(len(t) - len(p) + 1):\n",
        "        match = True\n",
        "        for j in range(len(p)):\n",
        "            if t[i+j] != p[j]:\n",
        "                match = False\n",
        "                break\n",
        "        if match:\n",
        "          occurrences.append(i)\n",
        "    return occurrences\n",
        "\n",
        "\n",
        "def generate_reads(genome, numReads, readLen):\n",
        "    ''' Generate reads from random positions in the given genome. '''\n",
        "    reads = []\n",
        "    for _ in range(numReads):\n",
        "        start = random.randint(0, len(genome)-readLen) - 1\n",
        "        reads.append(genome[start : start+readLen])\n",
        "    return reads"
      ],
      "execution_count": null,
      "outputs": []
    },
    {
      "cell_type": "code",
      "metadata": {
        "id": "PDKPBHi0ER1z"
      },
      "source": [
        "# Following line downloads FASTA file containing the lambda phage reference genome\n",
        "!wget http://d28rh4a8wq0iu5.cloudfront.net/ads1/data/lambda_virus.fa\n",
        "\n",
        "!wget http://d28rh4a8wq0iu5.cloudfront.net/ads1/data/SRR835775_1.first1000.fastq\n",
        "\n",
        "!wget http://d28rh4a8wq0iu5.cloudfront.net/ads1/data/phix.fa\n"
      ],
      "execution_count": null,
      "outputs": []
    },
    {
      "cell_type": "markdown",
      "metadata": {
        "id": "QUNOvNu9eLyU"
      },
      "source": [
        "## Programming homework 1\n",
        "\n",
        "First, implement a version of the naive exact matching algorithm that is strand-aware. That is, instead of looking only for occurrences of P in T, additionally look for occurrences of thereverse complement of P in T. If P is ACT, your function should find occurrences of both ACTand its reverse complement AGT in T.\n",
        "\n",
        "If P and its reverse complement are identical (e.g. AACGTT), then a given match offset should be reported only once. So if your new function is called naive_with_rc, then the old naivefunction and your new naive_with_rc function should return the same results when P equals its reverse complement.\n",
        "\n",
        "Hint: See this notebook for a few examples you can use to test your naive_with_rc function. http://nbviewer.ipython.org/github/BenLangmead/ads1-hw-examples/blob/master/hw1_naive_with_rc.ipynb\n",
        "\n",
        "Next, download and parse the lambda virus genome, at: https://d28rh4a8wq0iu5.cloudfront.net/ads1/data/lambda_virus.fa"
      ]
    },
    {
      "cell_type": "code",
      "metadata": {
        "id": "gDzf7NLPePHA"
      },
      "source": [
        "def naive_with_rc(pattern, text):\n",
        "    '''\n",
        "    Finds the positions of all exact matches of pattern and reverse\n",
        "    complement in text.\n",
        "    '''\n",
        "    occurrences = []\n",
        "    rev_pattern = reverse_complement(pattern)\n",
        "    if pattern == rev_pattern:\n",
        "        for i in range(len(text) - len(pattern) + 1):\n",
        "            match = True\n",
        "            for j in range(len(pattern)):\n",
        "                if text[i+j] != pattern[j]:\n",
        "                    match = False\n",
        "                    break\n",
        "            if match:\n",
        "                occurrences.append(i)\n",
        "    else:\n",
        "        for i in range(len(text) - len(pattern) + 1):\n",
        "            match = True\n",
        "            rev_match = True\n",
        "            for j in range(len(pattern)):\n",
        "                if text[i+j] != pattern[j]:\n",
        "                    match = False\n",
        "                    break\n",
        "            for k in range(len(rev_pattern)):\n",
        "                if text[i+k] != rev_pattern[k]:\n",
        "                    rev_match = False\n",
        "                    break\n",
        "            if match or rev_match:\n",
        "                occurrences.append(i)\n",
        "    return occurrences"
      ],
      "execution_count": null,
      "outputs": []
    },
    {
      "cell_type": "code",
      "metadata": {
        "id": "8uxRf9r7j65l",
        "colab": {
          "base_uri": "https://localhost:8080/",
          "height": 105
        },
        "outputId": "7f63fd1a-b934-4eeb-bba6-81041965b788"
      },
      "source": [
        "# Example 1\n",
        "p = 'CCC'\n",
        "ten_as = 'AAAAAAAAAA'\n",
        "t = ten_as + 'CCC' + ten_as + 'GGG' + ten_as\n",
        "occurrences = naive_with_rc(p, t)\n",
        "print(occurrences)\n",
        "\n",
        "\n",
        "# Example 2\n",
        "p = 'CGCG'\n",
        "t = ten_as + 'CGCG' + ten_as + 'CGCG' + ten_as\n",
        "occurrences = naive_with_rc(p, t)\n",
        "print(occurrences)\n",
        "\n",
        "\n",
        "# Example 3\n",
        "# Phi-X genome\n",
        "#!wget http://d396qusza40orc.cloudfront.net/ads1/data/phix.fa\n",
        "\n",
        "def read_genome(filename):\n",
        "    genome = ''\n",
        "    with open(filename, 'r') as f:\n",
        "        for line in f:\n",
        "            # ignore header line with genome information\n",
        "            if not line[0] == '>':\n",
        "                genome += line.rstrip()\n",
        "    return genome\n",
        "phix_genome = read_genome('phix.fa')\n",
        "occurrences = naive_with_rc('ATTA', phix_genome)\n",
        "print('offset of leftmost occurrence: %d' % min(occurrences))\n",
        "print('# occurrences: %d' % len(occurrences))\n",
        "\n",
        "\n",
        "# Example 4\n",
        "p = 'CGCT'\n",
        "t = ten_as + p + ten_as + reverse_complement(p) + ten_as\n",
        "occurrences = naive_with_rc(p, t)\n",
        "print(occurrences)"
      ],
      "execution_count": null,
      "outputs": [
        {
          "output_type": "stream",
          "text": [
            "[10, 23]\n",
            "[10, 24]\n",
            "offset of leftmost occurrence: 62\n",
            "# occurrences: 60\n",
            "[10, 24]\n"
          ],
          "name": "stdout"
        }
      ]
    },
    {
      "cell_type": "code",
      "metadata": {
        "id": "hPmMJ_EWz2W_",
        "colab": {
          "base_uri": "https://localhost:8080/",
          "height": 87
        },
        "outputId": "6616b15c-428f-4a09-ee85-7419b6ff77c5"
      },
      "source": [
        "#!wget https://d28rh4a8wq0iu5.cloudfront.net/ads1/data/lambda_virus.fa\n",
        "\n",
        "lambda_genome = read_genome('lambda_virus.fa')\n",
        "pattern_1 = 'AGGT'\n",
        "pattern_2 = 'TTAA'\n",
        "pattern_3 = 'ACTAAGT'\n",
        "pattern_4 = 'AGTCGA'\n",
        "\n",
        "occurences = naive_with_rc(pattern_1, lambda_genome)\n",
        "print(f'{pattern_1} appears {len(occurences)} times')\n",
        "\n",
        "occurences = naive_with_rc(pattern_2, lambda_genome)\n",
        "print(f'{pattern_2} appears {len(occurences)} times')\n",
        "\n",
        "occurences = naive_with_rc(pattern_3, lambda_genome)\n",
        "print(f'The first occurence of {pattern_3} is at offset {min(occurences)}')\n",
        "\n",
        "occurences = naive_with_rc(pattern_4, lambda_genome)\n",
        "print(f'The first occurence of {pattern_3} is at offset {min(occurences)}')"
      ],
      "execution_count": null,
      "outputs": [
        {
          "output_type": "stream",
          "text": [
            "AGGT appears 306 times\n",
            "TTAA appears 195 times\n",
            "The first occurence of ACTAAGT is at offset 26028\n",
            "The first occurence of ACTAAGT is at offset 450\n"
          ],
          "name": "stdout"
        }
      ]
    },
    {
      "cell_type": "code",
      "metadata": {
        "id": "SbrPXgVo25vQ"
      },
      "source": [
        "def naive_2mm(pattern, text):\n",
        "    '''\n",
        "    Finds the positions of all matches with up to two mismatches \n",
        "    of pattern in text.\n",
        "    '''\n",
        "    occurrences = []\n",
        "    for i in range(len(text) - len(pattern) + 1):\n",
        "        mismatch = 0\n",
        "        for j in range(len(pattern)):\n",
        "            if text[i+j] != pattern[j]:\n",
        "                mismatch += 1\n",
        "                if mismatch > 2:\n",
        "                    break\n",
        "        if mismatch <= 2:\n",
        "            occurrences.append(i)\n",
        "    return occurrences"
      ],
      "execution_count": null,
      "outputs": []
    },
    {
      "cell_type": "code",
      "metadata": {
        "id": "tqEMwL2V30No",
        "colab": {
          "base_uri": "https://localhost:8080/",
          "height": 70
        },
        "outputId": "86cd6bdc-e9aa-4701-a0d9-b815990f8255"
      },
      "source": [
        "# Example 1\n",
        "p = 'CTGT'\n",
        "ten_as = 'AAAAAAAAAA'\n",
        "t = ten_as + 'CTGT' + ten_as + 'CTTT' + ten_as + 'CGGG' + ten_as\n",
        "occurrences = naive_2mm(p, t)\n",
        "print(occurrences)\n",
        "\n",
        "\n",
        "# Example 2\n",
        "# Phi-X genome\n",
        "#!wget http://d396qusza40orc.cloudfront.net/ads1/data/phix.fa\n",
        "phix_genome = read_genome('phix.fa')\n",
        "occurrences = naive_2mm('GATTACA', phix_genome)\n",
        "print('offset of leftmost occurrence: %d' % min(occurrences))\n",
        "print('# occurrences: %d' % len(occurrences))"
      ],
      "execution_count": null,
      "outputs": [
        {
          "output_type": "stream",
          "text": [
            "[10, 24, 38]\n",
            "offset of leftmost occurrence: 10\n",
            "# occurrences: 79\n"
          ],
          "name": "stdout"
        }
      ]
    },
    {
      "cell_type": "code",
      "metadata": {
        "id": "h41W8ukE5rYC",
        "colab": {
          "base_uri": "https://localhost:8080/",
          "height": 52
        },
        "outputId": "d4999271-ac0d-41b8-aeaa-e96d87ab6d69"
      },
      "source": [
        "lambda_genome = read_genome('lambda_virus.fa')\n",
        "pattern_1 = 'TTCAAGCC'\n",
        "pattern_2 = 'AGGAGGTT'\n",
        "\n",
        "occurences = naive_2mm(pattern_1, lambda_genome)\n",
        "print(f'{pattern_1} appears {len(occurences)} times')\n",
        "\n",
        "occurences = naive_2mm(pattern_2, lambda_genome)\n",
        "print(f'The first occurence of {pattern_2} is at offset {min(occurences)}')"
      ],
      "execution_count": null,
      "outputs": [
        {
          "output_type": "stream",
          "text": [
            "TTCAAGCC appears 191 times\n",
            "The first occurence of AGGAGGTT is at offset 49\n"
          ],
          "name": "stdout"
        }
      ]
    },
    {
      "cell_type": "code",
      "metadata": {
        "id": "IAusPAbH6a3K",
        "colab": {
          "base_uri": "https://localhost:8080/",
          "height": 1000
        },
        "outputId": "44060cad-30fc-49de-97e4-5a2897e05c27"
      },
      "source": [
        "import matplotlib.pyplot as plt\n",
        "import collections\n",
        "\n",
        "#!wget https://d28rh4a8wq0iu5.cloudfront.net/ads1/data/ERR037900_1.first1000.fastq\n",
        "\n",
        "sequences, qualities = read_fastq('ERR037900_1.first1000.fastq')\n",
        "\n",
        "n_count = []\n",
        "for seq in sequences:\n",
        "    n_count.append(seq.count('N'))\n",
        "\n",
        "print('Ns per read')\n",
        "plt.plot(range(len(sequences)), n_count)\n",
        "plt.show()\n",
        "\n",
        "print(f'Read {n_count.index(max(n_count))} has {max(n_count)} Ns')\n",
        "\n",
        "def phred33ToQ(qual):\n",
        "    return ord(qual) - 33\n",
        "\n",
        "def createHist(qualityStrings):\n",
        "    # Create a histogram of quality scores\n",
        "    hist = [0]*50\n",
        "    for read in qualityStrings:\n",
        "        for phred in read:\n",
        "            q = phred33ToQ(phred)\n",
        "            hist[q] += 1\n",
        "    return hist\n",
        "h = createHist(qualities)\n",
        "\n",
        "print()\n",
        "print('Frequency of qualities')\n",
        "plt.plot(range(len(h)), h)\n",
        "plt.show()\n",
        "\n",
        "min_quality = []\n",
        "index = []\n",
        "for read in qualities:\n",
        "    quality = []\n",
        "    for phred in read:\n",
        "        quality.append(phred33ToQ(phred))\n",
        "    min_quality.append(min(quality))\n",
        "    index.append(quality.index(min(quality)))\n",
        "\n",
        "hist = [0]*len(qualities[0])\n",
        "for i, val in enumerate(index):\n",
        "    hist[val] += 1\n",
        "\n",
        "print()\n",
        "print('Frequency of offset with lowest quality per read.')\n",
        "plt.plot(range(len(hist)), hist)\n",
        "plt.show()\n",
        "print(f'Position {hist.index(max(hist))} had the greatest frequency of low quality reads.')\n",
        "\n",
        "Ns = [0]* len(sequences[0])\n",
        "for read in sequences:\n",
        "    for i, char in enumerate(read):\n",
        "        if char == 'N':\n",
        "            Ns[i] += 1\n",
        "\n",
        "print()\n",
        "print('Number of Ns at each position.')\n",
        "plt.plot(range(len(Ns)), Ns)\n",
        "plt.show()\n",
        "print(f'Position {Ns.index(max(Ns))} had {max(Ns)} Ns')"
      ],
      "execution_count": null,
      "outputs": [
        {
          "output_type": "stream",
          "text": [
            "Ns per read\n"
          ],
          "name": "stdout"
        },
        {
          "output_type": "display_data",
          "data": {
            "image/png": "[encoded data removed]",
            "text/plain": [
              "<Figure size 432x288 with 1 Axes>"
            ]
          },
          "metadata": {
            "tags": [],
            "needs_background": "light"
          }
        },
        {
          "output_type": "stream",
          "text": [
            "Read 275 has 4 Ns\n",
            "\n",
            "Frequency of qualities\n"
          ],
          "name": "stdout"
        },
        {
          "output_type": "display_data",
          "data": {
            "image/png": "[encoded data removed]",
            "text/plain": [
              "<Figure size 432x288 with 1 Axes>"
            ]
          },
          "metadata": {
            "tags": [],
            "needs_background": "light"
          }
        },
        {
          "output_type": "stream",
          "text": [
            "\n",
            "Frequency of offset with lowest quality per read.\n"
          ],
          "name": "stdout"
        },
        {
          "output_type": "display_data",
          "data": {
            "image/png": "[encoded data removed]",
            "text/plain": [
              "<Figure size 432x288 with 1 Axes>"
            ]
          },
          "metadata": {
            "tags": [],
            "needs_background": "light"
          }
        },
        {
          "output_type": "stream",
          "text": [
            "Position 66 had the greatest frequency of low quality reads.\n",
            "\n",
            "Number of Ns at each position.\n"
          ],
          "name": "stdout"
        },
        {
          "output_type": "display_data",
          "data": {
            "image/png": "[encoded data removed]",
            "text/plain": [
              "<Figure size 432x288 with 1 Axes>"
            ]
          },
          "metadata": {
            "tags": [],
            "needs_background": "light"
          }
        },
        {
          "output_type": "stream",
          "text": [
            "Position 66 had 903 Ns\n"
          ],
          "name": "stdout"
        }
      ]
    }
  ]
}
